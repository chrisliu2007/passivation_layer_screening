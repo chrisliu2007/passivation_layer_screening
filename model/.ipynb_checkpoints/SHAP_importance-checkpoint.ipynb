{
 "cells": [
  {
   "cell_type": "markdown",
   "id": "fb1190eb",
   "metadata": {},
   "source": [
    "# Model Interpretation with Shapley Additive Explanation (SHAP)\n",
    "\n",
    " - SHAP is used to find the most important features, and understand the impact of each feature on the output\n",
    " \n",
    " \n",
    " - input X: materials descriptors + precursor concentrations\n",
    " \n",
    " \n",
    " - output y: improvement ratio of device efficiency (i.e., device with 2D capping over control without)\n",
    " \n",
    " \n",
    " - regression model: the ensemble of RF, GB, SVR, NN, GP\n",
    "\n",
    "Written by Suo Wang and Zhe Liu, Chongyang Zhi et al.\n",
    "\n",
    "Tested with the packages as follows:\n",
    "`numpy 1.21.5`\n",
    "`pandas 1.4.2`\n",
    "`matplotlib 3.5.1`\n",
    "`shap 0.41.0`\n",
    "`sklearn 1.0.2`\n",
    "`GPy 1.10.0`"
   ]
  },
  {
   "cell_type": "code",
   "execution_count": 1,
   "id": "72a7a37a",
   "metadata": {},
   "outputs": [],
   "source": [
    "import numpy as np\n",
    "import pandas as pd\n",
    "import matplotlib.pyplot as plt\n",
    "import seaborn as sns\n",
    "import shap"
   ]
  },
  {
   "cell_type": "markdown",
   "id": "887cd349",
   "metadata": {},
   "source": [
    "## 1. Import Data and  Pre-Processing\n"
   ]
  },
  {
   "cell_type": "markdown",
   "id": "9a634acb",
   "metadata": {},
   "source": [
    "#### Experimental data for building the model"
   ]
  },
  {
   "cell_type": "code",
   "execution_count": 2,
   "id": "70c7eeec",
   "metadata": {},
   "outputs": [],
   "source": [
    "df_exp_data = pd.read_csv('../data/experimental_data_maxPCE_ratio.csv')"
   ]
  },
  {
   "cell_type": "markdown",
   "id": "67cce585",
   "metadata": {},
   "source": [
    "#### Remove two features that are correlated strongly with other features (i.e., # of Heavy Atom, TPSA)\n"
   ]
  },
  {
   "cell_type": "code",
   "execution_count": 3,
   "id": "e6646eda",
   "metadata": {},
   "outputs": [],
   "source": [
    "df_exp_data = df_exp_data.drop(columns='Heavy atom')\n",
    "df_exp_data = df_exp_data.drop(columns='TPSA')"
   ]
  },
  {
   "cell_type": "code",
   "execution_count": 4,
   "id": "f57ebace",
   "metadata": {},
   "outputs": [
    {
     "data": {
      "text/html": [
       "<div>\n",
       "<style scoped>\n",
       "    .dataframe tbody tr th:only-of-type {\n",
       "        vertical-align: middle;\n",
       "    }\n",
       "\n",
       "    .dataframe tbody tr th {\n",
       "        vertical-align: top;\n",
       "    }\n",
       "\n",
       "    .dataframe thead th {\n",
       "        text-align: right;\n",
       "    }\n",
       "</style>\n",
       "<table border=\"1\" class=\"dataframe\">\n",
       "  <thead>\n",
       "    <tr style=\"text-align: right;\">\n",
       "      <th></th>\n",
       "      <th>Concentration (umol/mL)</th>\n",
       "      <th>C atom</th>\n",
       "      <th>H atom</th>\n",
       "      <th>N atom</th>\n",
       "      <th>F atom</th>\n",
       "      <th>O atom</th>\n",
       "      <th>Ipc</th>\n",
       "      <th>Molecular weight</th>\n",
       "      <th>Hydrogen bond donor</th>\n",
       "      <th>Hydrogen bond acceptor</th>\n",
       "      <th>Rotatable bond</th>\n",
       "      <th>Complexity</th>\n",
       "      <th>MolLogP</th>\n",
       "    </tr>\n",
       "  </thead>\n",
       "  <tbody>\n",
       "    <tr>\n",
       "      <th>0</th>\n",
       "      <td>24.87</td>\n",
       "      <td>4</td>\n",
       "      <td>12</td>\n",
       "      <td>1</td>\n",
       "      <td>0</td>\n",
       "      <td>0</td>\n",
       "      <td>11.245112</td>\n",
       "      <td>201.05</td>\n",
       "      <td>1</td>\n",
       "      <td>0</td>\n",
       "      <td>2</td>\n",
       "      <td>15.02</td>\n",
       "      <td>-2.97</td>\n",
       "    </tr>\n",
       "    <tr>\n",
       "      <th>1</th>\n",
       "      <td>20.74</td>\n",
       "      <td>7</td>\n",
       "      <td>16</td>\n",
       "      <td>1</td>\n",
       "      <td>0</td>\n",
       "      <td>0</td>\n",
       "      <td>91.367577</td>\n",
       "      <td>241.12</td>\n",
       "      <td>1</td>\n",
       "      <td>0</td>\n",
       "      <td>1</td>\n",
       "      <td>59.94</td>\n",
       "      <td>-2.19</td>\n",
       "    </tr>\n",
       "    <tr>\n",
       "      <th>2</th>\n",
       "      <td>28.90</td>\n",
       "      <td>2</td>\n",
       "      <td>8</td>\n",
       "      <td>1</td>\n",
       "      <td>0</td>\n",
       "      <td>0</td>\n",
       "      <td>2.754888</td>\n",
       "      <td>173.00</td>\n",
       "      <td>1</td>\n",
       "      <td>0</td>\n",
       "      <td>0</td>\n",
       "      <td>6.00</td>\n",
       "      <td>-3.75</td>\n",
       "    </tr>\n",
       "    <tr>\n",
       "      <th>3</th>\n",
       "      <td>43.35</td>\n",
       "      <td>2</td>\n",
       "      <td>8</td>\n",
       "      <td>1</td>\n",
       "      <td>0</td>\n",
       "      <td>0</td>\n",
       "      <td>2.754888</td>\n",
       "      <td>173.00</td>\n",
       "      <td>1</td>\n",
       "      <td>0</td>\n",
       "      <td>0</td>\n",
       "      <td>6.00</td>\n",
       "      <td>-3.75</td>\n",
       "    </tr>\n",
       "    <tr>\n",
       "      <th>4</th>\n",
       "      <td>57.80</td>\n",
       "      <td>2</td>\n",
       "      <td>8</td>\n",
       "      <td>1</td>\n",
       "      <td>0</td>\n",
       "      <td>0</td>\n",
       "      <td>2.754888</td>\n",
       "      <td>173.00</td>\n",
       "      <td>1</td>\n",
       "      <td>0</td>\n",
       "      <td>0</td>\n",
       "      <td>6.00</td>\n",
       "      <td>-3.75</td>\n",
       "    </tr>\n",
       "  </tbody>\n",
       "</table>\n",
       "</div>"
      ],
      "text/plain": [
       "   Concentration (umol/mL)  C atom  H atom  N atom  F atom  O atom        Ipc  \\\n",
       "0                    24.87       4      12       1       0       0  11.245112   \n",
       "1                    20.74       7      16       1       0       0  91.367577   \n",
       "2                    28.90       2       8       1       0       0   2.754888   \n",
       "3                    43.35       2       8       1       0       0   2.754888   \n",
       "4                    57.80       2       8       1       0       0   2.754888   \n",
       "\n",
       "   Molecular weight  Hydrogen bond donor  Hydrogen bond acceptor  \\\n",
       "0            201.05                    1                       0   \n",
       "1            241.12                    1                       0   \n",
       "2            173.00                    1                       0   \n",
       "3            173.00                    1                       0   \n",
       "4            173.00                    1                       0   \n",
       "\n",
       "   Rotatable bond  Complexity  MolLogP  \n",
       "0               2       15.02    -2.97  \n",
       "1               1       59.94    -2.19  \n",
       "2               0        6.00    -3.75  \n",
       "3               0        6.00    -3.75  \n",
       "4               0        6.00    -3.75  "
      ]
     },
     "execution_count": 4,
     "metadata": {},
     "output_type": "execute_result"
    }
   ],
   "source": [
    "X_input = df_exp_data.iloc[:46,3:16]\n",
    "X_input.iloc[:,0] = np.around(X_input.iloc[:,0]/X_input['Molecular weight']*1000, 2) ## Convert mg/mL to μmol/mL\n",
    "X_input.rename(columns={\"Concentration (mg/mL)\": \"Concentration (μmol/mL)\"}, inplace=True)\n",
    "X_input.head(5)"
   ]
  },
  {
   "cell_type": "code",
   "execution_count": 5,
   "id": "667d290c",
   "metadata": {},
   "outputs": [],
   "source": [
    "from sklearn.preprocessing import MinMaxScaler\n",
    "X_scaler = MinMaxScaler()\n",
    "X_scaler.fit(X_input)\n",
    "X_input_norm = X_scaler.transform(X_input)\n",
    "X_input_norm = pd.DataFrame(X_input_norm, columns = X_input.columns)\n",
    "X_input_norm.head(5)\n",
    "X_input_norm = X_input_norm.values"
   ]
  },
  {
   "cell_type": "code",
   "execution_count": 6,
   "id": "63ed633c",
   "metadata": {},
   "outputs": [],
   "source": [
    "# The improvement ratio of device PCE are loaded as y\n",
    "y_PCE = df_exp_data.iloc[:46,-1].values-1\n"
   ]
  },
  {
   "cell_type": "markdown",
   "id": "3cae34a0",
   "metadata": {},
   "source": [
    "## 2. Feature Importance with SHAP"
   ]
  },
  {
   "cell_type": "markdown",
   "id": "d02a88a4",
   "metadata": {},
   "source": [
    "- Model interpretation: To better understand what model thinks, SHAP needs to be performed on more diversely distributed dataset. If the SHAP-evaluated data is not general, the feature interpretation will be very biased.\n",
    "\n",
    "\n",
    "- Literature datasets with precursor concentrations are created as the SHAP input data for analysis\n",
    "\n",
    "    - Materials: ammonium salts (38 types)\n",
    "    - Concentrations: varying 1 - 15 mg/ml (μmol per ml)"
   ]
  },
  {
   "cell_type": "code",
   "execution_count": 7,
   "id": "49cf4e5e",
   "metadata": {},
   "outputs": [
    {
     "data": {
      "text/html": [
       "<div>\n",
       "<style scoped>\n",
       "    .dataframe tbody tr th:only-of-type {\n",
       "        vertical-align: middle;\n",
       "    }\n",
       "\n",
       "    .dataframe tbody tr th {\n",
       "        vertical-align: top;\n",
       "    }\n",
       "\n",
       "    .dataframe thead th {\n",
       "        text-align: right;\n",
       "    }\n",
       "</style>\n",
       "<table border=\"1\" class=\"dataframe\">\n",
       "  <thead>\n",
       "    <tr style=\"text-align: right;\">\n",
       "      <th></th>\n",
       "      <th>Concentration (umol/mL)</th>\n",
       "      <th>C atom</th>\n",
       "      <th>H atom</th>\n",
       "      <th>N atom</th>\n",
       "      <th>F atom</th>\n",
       "      <th>O atom</th>\n",
       "      <th>Ipc</th>\n",
       "      <th>Molecular weight</th>\n",
       "      <th>Hydrogen bond donor</th>\n",
       "      <th>Hydrogen bond acceptor</th>\n",
       "      <th>Rotatable bond</th>\n",
       "      <th>Complexity</th>\n",
       "      <th>MolLogP</th>\n",
       "    </tr>\n",
       "  </thead>\n",
       "  <tbody>\n",
       "    <tr>\n",
       "      <th>count</th>\n",
       "      <td>570.000000</td>\n",
       "      <td>570.000000</td>\n",
       "      <td>570.000000</td>\n",
       "      <td>570.000000</td>\n",
       "      <td>570.000000</td>\n",
       "      <td>570.000000</td>\n",
       "      <td>570.000000</td>\n",
       "      <td>570.000000</td>\n",
       "      <td>570.000000</td>\n",
       "      <td>570.000000</td>\n",
       "      <td>570.000000</td>\n",
       "      <td>570.000000</td>\n",
       "      <td>570.000000</td>\n",
       "    </tr>\n",
       "    <tr>\n",
       "      <th>mean</th>\n",
       "      <td>0.367487</td>\n",
       "      <td>0.564327</td>\n",
       "      <td>0.360902</td>\n",
       "      <td>0.078947</td>\n",
       "      <td>0.096491</td>\n",
       "      <td>0.052632</td>\n",
       "      <td>0.287998</td>\n",
       "      <td>0.507370</td>\n",
       "      <td>0.052632</td>\n",
       "      <td>0.236842</td>\n",
       "      <td>0.241228</td>\n",
       "      <td>0.313942</td>\n",
       "      <td>0.625058</td>\n",
       "    </tr>\n",
       "    <tr>\n",
       "      <th>std</th>\n",
       "      <td>0.233938</td>\n",
       "      <td>0.238491</td>\n",
       "      <td>0.249788</td>\n",
       "      <td>0.244257</td>\n",
       "      <td>0.314723</td>\n",
       "      <td>0.191750</td>\n",
       "      <td>0.425035</td>\n",
       "      <td>0.274592</td>\n",
       "      <td>0.299152</td>\n",
       "      <td>0.425518</td>\n",
       "      <td>0.244139</td>\n",
       "      <td>0.287806</td>\n",
       "      <td>0.244332</td>\n",
       "    </tr>\n",
       "    <tr>\n",
       "      <th>min</th>\n",
       "      <td>-0.009528</td>\n",
       "      <td>0.000000</td>\n",
       "      <td>-0.071429</td>\n",
       "      <td>-0.500000</td>\n",
       "      <td>0.000000</td>\n",
       "      <td>0.000000</td>\n",
       "      <td>0.000000</td>\n",
       "      <td>0.000000</td>\n",
       "      <td>-0.500000</td>\n",
       "      <td>0.000000</td>\n",
       "      <td>0.000000</td>\n",
       "      <td>0.000000</td>\n",
       "      <td>0.000000</td>\n",
       "    </tr>\n",
       "    <tr>\n",
       "      <th>25%</th>\n",
       "      <td>0.168867</td>\n",
       "      <td>0.444444</td>\n",
       "      <td>0.214286</td>\n",
       "      <td>0.000000</td>\n",
       "      <td>0.000000</td>\n",
       "      <td>0.000000</td>\n",
       "      <td>0.040022</td>\n",
       "      <td>0.261505</td>\n",
       "      <td>0.000000</td>\n",
       "      <td>0.000000</td>\n",
       "      <td>0.000000</td>\n",
       "      <td>0.057395</td>\n",
       "      <td>0.447827</td>\n",
       "    </tr>\n",
       "    <tr>\n",
       "      <th>50%</th>\n",
       "      <td>0.358049</td>\n",
       "      <td>0.555556</td>\n",
       "      <td>0.285714</td>\n",
       "      <td>0.000000</td>\n",
       "      <td>0.000000</td>\n",
       "      <td>0.000000</td>\n",
       "      <td>0.176165</td>\n",
       "      <td>0.538864</td>\n",
       "      <td>0.000000</td>\n",
       "      <td>0.000000</td>\n",
       "      <td>0.166667</td>\n",
       "      <td>0.192152</td>\n",
       "      <td>0.653203</td>\n",
       "    </tr>\n",
       "    <tr>\n",
       "      <th>75%</th>\n",
       "      <td>0.547481</td>\n",
       "      <td>0.777778</td>\n",
       "      <td>0.428571</td>\n",
       "      <td>0.000000</td>\n",
       "      <td>0.000000</td>\n",
       "      <td>0.000000</td>\n",
       "      <td>0.354184</td>\n",
       "      <td>0.700131</td>\n",
       "      <td>0.000000</td>\n",
       "      <td>0.000000</td>\n",
       "      <td>0.333333</td>\n",
       "      <td>0.534318</td>\n",
       "      <td>0.785515</td>\n",
       "    </tr>\n",
       "    <tr>\n",
       "      <th>max</th>\n",
       "      <td>0.999942</td>\n",
       "      <td>1.000000</td>\n",
       "      <td>1.000000</td>\n",
       "      <td>1.000000</td>\n",
       "      <td>1.666667</td>\n",
       "      <td>1.000000</td>\n",
       "      <td>2.297286</td>\n",
       "      <td>1.276582</td>\n",
       "      <td>1.000000</td>\n",
       "      <td>1.000000</td>\n",
       "      <td>1.000000</td>\n",
       "      <td>1.000000</td>\n",
       "      <td>1.046462</td>\n",
       "    </tr>\n",
       "  </tbody>\n",
       "</table>\n",
       "</div>"
      ],
      "text/plain": [
       "       Concentration (umol/mL)      C atom      H atom      N atom  \\\n",
       "count               570.000000  570.000000  570.000000  570.000000   \n",
       "mean                  0.367487    0.564327    0.360902    0.078947   \n",
       "std                   0.233938    0.238491    0.249788    0.244257   \n",
       "min                  -0.009528    0.000000   -0.071429   -0.500000   \n",
       "25%                   0.168867    0.444444    0.214286    0.000000   \n",
       "50%                   0.358049    0.555556    0.285714    0.000000   \n",
       "75%                   0.547481    0.777778    0.428571    0.000000   \n",
       "max                   0.999942    1.000000    1.000000    1.000000   \n",
       "\n",
       "           F atom      O atom         Ipc  Molecular weight  \\\n",
       "count  570.000000  570.000000  570.000000        570.000000   \n",
       "mean     0.096491    0.052632    0.287998          0.507370   \n",
       "std      0.314723    0.191750    0.425035          0.274592   \n",
       "min      0.000000    0.000000    0.000000          0.000000   \n",
       "25%      0.000000    0.000000    0.040022          0.261505   \n",
       "50%      0.000000    0.000000    0.176165          0.538864   \n",
       "75%      0.000000    0.000000    0.354184          0.700131   \n",
       "max      1.666667    1.000000    2.297286          1.276582   \n",
       "\n",
       "       Hydrogen bond donor  Hydrogen bond acceptor  Rotatable bond  \\\n",
       "count           570.000000              570.000000      570.000000   \n",
       "mean              0.052632                0.236842        0.241228   \n",
       "std               0.299152                0.425518        0.244139   \n",
       "min              -0.500000                0.000000        0.000000   \n",
       "25%               0.000000                0.000000        0.000000   \n",
       "50%               0.000000                0.000000        0.166667   \n",
       "75%               0.000000                0.000000        0.333333   \n",
       "max               1.000000                1.000000        1.000000   \n",
       "\n",
       "       Complexity     MolLogP  \n",
       "count  570.000000  570.000000  \n",
       "mean     0.313942    0.625058  \n",
       "std      0.287806    0.244332  \n",
       "min      0.000000    0.000000  \n",
       "25%      0.057395    0.447827  \n",
       "50%      0.192152    0.653203  \n",
       "75%      0.534318    0.785515  \n",
       "max      1.000000    1.046462  "
      ]
     },
     "execution_count": 7,
     "metadata": {},
     "output_type": "execute_result"
    }
   ],
   "source": [
    "X_shap = pd.read_csv('../data/Liter_data_w_concentrations.csv').iloc[:,1:] # 38 materials with varying 15 concentrations \n",
    "\n",
    "X_shap_norm = X_scaler.transform(X_shap.iloc[:,3:])\n",
    "X_shap_norm = pd.DataFrame(X_shap_norm, columns = X_input.columns)\n",
    "X_shap_norm.describe()\n",
    "\n",
    "# X_shap_stand_ = pd.read_csv('../data/shap_data_stand_570.csv') # Normalized the data with preprocessing\n",
    "# X_shap_stand_ = X_shap_stand_.iloc[:,1:]"
   ]
  },
  {
   "cell_type": "code",
   "execution_count": 9,
   "id": "ad37035f",
   "metadata": {},
   "outputs": [
    {
     "data": {
      "text/html": [
       "<div>\n",
       "<style scoped>\n",
       "    .dataframe tbody tr th:only-of-type {\n",
       "        vertical-align: middle;\n",
       "    }\n",
       "\n",
       "    .dataframe tbody tr th {\n",
       "        vertical-align: top;\n",
       "    }\n",
       "\n",
       "    .dataframe thead th {\n",
       "        text-align: right;\n",
       "    }\n",
       "</style>\n",
       "<table border=\"1\" class=\"dataframe\">\n",
       "  <thead>\n",
       "    <tr style=\"text-align: right;\">\n",
       "      <th></th>\n",
       "      <th>Concentration (umol/mL)</th>\n",
       "      <th>C atom</th>\n",
       "      <th>H atom</th>\n",
       "      <th>N atom</th>\n",
       "      <th>F atom</th>\n",
       "      <th>O atom</th>\n",
       "      <th>Ipc</th>\n",
       "      <th>Molecular weight</th>\n",
       "      <th>Hydrogen bond donor</th>\n",
       "      <th>Hydrogen bond acceptor</th>\n",
       "      <th>Rotatable bond</th>\n",
       "      <th>Complexity</th>\n",
       "      <th>MolLogP</th>\n",
       "    </tr>\n",
       "  </thead>\n",
       "  <tbody>\n",
       "    <tr>\n",
       "      <th>0</th>\n",
       "      <td>0.014871</td>\n",
       "      <td>0.333333</td>\n",
       "      <td>0.428571</td>\n",
       "      <td>0.0</td>\n",
       "      <td>0.000000</td>\n",
       "      <td>0.0</td>\n",
       "      <td>0.016879</td>\n",
       "      <td>0.215653</td>\n",
       "      <td>0.0</td>\n",
       "      <td>0.0</td>\n",
       "      <td>0.333333</td>\n",
       "      <td>0.023847</td>\n",
       "      <td>0.529248</td>\n",
       "    </tr>\n",
       "    <tr>\n",
       "      <th>1</th>\n",
       "      <td>0.004909</td>\n",
       "      <td>0.666667</td>\n",
       "      <td>0.714286</td>\n",
       "      <td>0.0</td>\n",
       "      <td>0.000000</td>\n",
       "      <td>0.0</td>\n",
       "      <td>0.176165</td>\n",
       "      <td>0.523718</td>\n",
       "      <td>0.0</td>\n",
       "      <td>0.0</td>\n",
       "      <td>0.166667</td>\n",
       "      <td>0.142604</td>\n",
       "      <td>0.746518</td>\n",
       "    </tr>\n",
       "    <tr>\n",
       "      <th>2</th>\n",
       "      <td>0.024591</td>\n",
       "      <td>0.111111</td>\n",
       "      <td>0.142857</td>\n",
       "      <td>0.0</td>\n",
       "      <td>0.000000</td>\n",
       "      <td>0.0</td>\n",
       "      <td>0.000000</td>\n",
       "      <td>0.000000</td>\n",
       "      <td>0.0</td>\n",
       "      <td>0.0</td>\n",
       "      <td>0.000000</td>\n",
       "      <td>0.000000</td>\n",
       "      <td>0.311978</td>\n",
       "    </tr>\n",
       "    <tr>\n",
       "      <th>3</th>\n",
       "      <td>0.019382</td>\n",
       "      <td>0.000000</td>\n",
       "      <td>0.000000</td>\n",
       "      <td>1.0</td>\n",
       "      <td>0.000000</td>\n",
       "      <td>0.0</td>\n",
       "      <td>0.000975</td>\n",
       "      <td>0.107481</td>\n",
       "      <td>1.0</td>\n",
       "      <td>1.0</td>\n",
       "      <td>0.000000</td>\n",
       "      <td>0.063106</td>\n",
       "      <td>0.000000</td>\n",
       "    </tr>\n",
       "    <tr>\n",
       "      <th>4</th>\n",
       "      <td>0.000049</td>\n",
       "      <td>0.777778</td>\n",
       "      <td>0.357143</td>\n",
       "      <td>0.0</td>\n",
       "      <td>0.333333</td>\n",
       "      <td>0.0</td>\n",
       "      <td>0.412161</td>\n",
       "      <td>0.723380</td>\n",
       "      <td>0.0</td>\n",
       "      <td>0.0</td>\n",
       "      <td>0.333333</td>\n",
       "      <td>0.506940</td>\n",
       "      <td>0.690808</td>\n",
       "    </tr>\n",
       "    <tr>\n",
       "      <th>...</th>\n",
       "      <td>...</td>\n",
       "      <td>...</td>\n",
       "      <td>...</td>\n",
       "      <td>...</td>\n",
       "      <td>...</td>\n",
       "      <td>...</td>\n",
       "      <td>...</td>\n",
       "      <td>...</td>\n",
       "      <td>...</td>\n",
       "      <td>...</td>\n",
       "      <td>...</td>\n",
       "      <td>...</td>\n",
       "      <td>...</td>\n",
       "    </tr>\n",
       "    <tr>\n",
       "      <th>565</th>\n",
       "      <td>0.921581</td>\n",
       "      <td>0.222222</td>\n",
       "      <td>0.285714</td>\n",
       "      <td>0.0</td>\n",
       "      <td>0.000000</td>\n",
       "      <td>0.0</td>\n",
       "      <td>0.000975</td>\n",
       "      <td>0.107819</td>\n",
       "      <td>0.0</td>\n",
       "      <td>0.0</td>\n",
       "      <td>0.000000</td>\n",
       "      <td>0.014831</td>\n",
       "      <td>0.420808</td>\n",
       "    </tr>\n",
       "    <tr>\n",
       "      <th>566</th>\n",
       "      <td>0.921581</td>\n",
       "      <td>0.222222</td>\n",
       "      <td>0.285714</td>\n",
       "      <td>0.0</td>\n",
       "      <td>0.000000</td>\n",
       "      <td>0.0</td>\n",
       "      <td>0.008151</td>\n",
       "      <td>0.107819</td>\n",
       "      <td>0.0</td>\n",
       "      <td>0.0</td>\n",
       "      <td>0.166667</td>\n",
       "      <td>0.007547</td>\n",
       "      <td>0.421253</td>\n",
       "    </tr>\n",
       "    <tr>\n",
       "      <th>567</th>\n",
       "      <td>0.863247</td>\n",
       "      <td>0.333333</td>\n",
       "      <td>0.285714</td>\n",
       "      <td>0.0</td>\n",
       "      <td>0.000000</td>\n",
       "      <td>0.0</td>\n",
       "      <td>0.040022</td>\n",
       "      <td>0.200161</td>\n",
       "      <td>0.0</td>\n",
       "      <td>0.0</td>\n",
       "      <td>0.000000</td>\n",
       "      <td>0.034685</td>\n",
       "      <td>0.339164</td>\n",
       "    </tr>\n",
       "    <tr>\n",
       "      <th>568</th>\n",
       "      <td>0.720794</td>\n",
       "      <td>0.555556</td>\n",
       "      <td>0.214286</td>\n",
       "      <td>0.5</td>\n",
       "      <td>0.000000</td>\n",
       "      <td>0.0</td>\n",
       "      <td>0.176165</td>\n",
       "      <td>0.484785</td>\n",
       "      <td>0.0</td>\n",
       "      <td>1.0</td>\n",
       "      <td>0.166667</td>\n",
       "      <td>0.387056</td>\n",
       "      <td>0.472841</td>\n",
       "    </tr>\n",
       "    <tr>\n",
       "      <th>569</th>\n",
       "      <td>0.704780</td>\n",
       "      <td>0.444444</td>\n",
       "      <td>0.142857</td>\n",
       "      <td>0.0</td>\n",
       "      <td>0.000000</td>\n",
       "      <td>0.0</td>\n",
       "      <td>0.126356</td>\n",
       "      <td>0.523541</td>\n",
       "      <td>0.0</td>\n",
       "      <td>1.0</td>\n",
       "      <td>0.166667</td>\n",
       "      <td>0.319854</td>\n",
       "      <td>0.658496</td>\n",
       "    </tr>\n",
       "  </tbody>\n",
       "</table>\n",
       "<p>570 rows × 13 columns</p>\n",
       "</div>"
      ],
      "text/plain": [
       "     Concentration (umol/mL)    C atom    H atom  N atom    F atom  O atom  \\\n",
       "0                   0.014871  0.333333  0.428571     0.0  0.000000     0.0   \n",
       "1                   0.004909  0.666667  0.714286     0.0  0.000000     0.0   \n",
       "2                   0.024591  0.111111  0.142857     0.0  0.000000     0.0   \n",
       "3                   0.019382  0.000000  0.000000     1.0  0.000000     0.0   \n",
       "4                   0.000049  0.777778  0.357143     0.0  0.333333     0.0   \n",
       "..                       ...       ...       ...     ...       ...     ...   \n",
       "565                 0.921581  0.222222  0.285714     0.0  0.000000     0.0   \n",
       "566                 0.921581  0.222222  0.285714     0.0  0.000000     0.0   \n",
       "567                 0.863247  0.333333  0.285714     0.0  0.000000     0.0   \n",
       "568                 0.720794  0.555556  0.214286     0.5  0.000000     0.0   \n",
       "569                 0.704780  0.444444  0.142857     0.0  0.000000     0.0   \n",
       "\n",
       "          Ipc  Molecular weight  Hydrogen bond donor  Hydrogen bond acceptor  \\\n",
       "0    0.016879          0.215653                  0.0                     0.0   \n",
       "1    0.176165          0.523718                  0.0                     0.0   \n",
       "2    0.000000          0.000000                  0.0                     0.0   \n",
       "3    0.000975          0.107481                  1.0                     1.0   \n",
       "4    0.412161          0.723380                  0.0                     0.0   \n",
       "..        ...               ...                  ...                     ...   \n",
       "565  0.000975          0.107819                  0.0                     0.0   \n",
       "566  0.008151          0.107819                  0.0                     0.0   \n",
       "567  0.040022          0.200161                  0.0                     0.0   \n",
       "568  0.176165          0.484785                  0.0                     1.0   \n",
       "569  0.126356          0.523541                  0.0                     1.0   \n",
       "\n",
       "     Rotatable bond  Complexity   MolLogP  \n",
       "0          0.333333    0.023847  0.529248  \n",
       "1          0.166667    0.142604  0.746518  \n",
       "2          0.000000    0.000000  0.311978  \n",
       "3          0.000000    0.063106  0.000000  \n",
       "4          0.333333    0.506940  0.690808  \n",
       "..              ...         ...       ...  \n",
       "565        0.000000    0.014831  0.420808  \n",
       "566        0.166667    0.007547  0.421253  \n",
       "567        0.000000    0.034685  0.339164  \n",
       "568        0.166667    0.387056  0.472841  \n",
       "569        0.166667    0.319854  0.658496  \n",
       "\n",
       "[570 rows x 13 columns]"
      ]
     },
     "execution_count": 9,
     "metadata": {},
     "output_type": "execute_result"
    }
   ],
   "source": [
    "X_shap_norm"
   ]
  },
  {
   "cell_type": "markdown",
   "id": "e72afa57",
   "metadata": {},
   "source": [
    "#### SHAP model analysis starts\n",
    " - train the model on normalized X input (i.e., experimental data)\n",
    " - use the trained model for SHAP analysis with X_shap (i.e., a broader-range dataset)"
   ]
  },
  {
   "cell_type": "code",
   "execution_count": 36,
   "id": "f35ddf46",
   "metadata": {
    "scrolled": true
   },
   "outputs": [
    {
     "name": "stderr",
     "output_type": "stream",
     "text": [
      "reconstraining parameters Mat52.lengthscale\n",
      "reconstraining parameters Mat52.variance\n"
     ]
    },
    {
     "data": {
      "application/vnd.jupyter.widget-view+json": {
       "model_id": "d1a17b1bb5454ab58ab8ed16d233aaad",
       "version_major": 2,
       "version_minor": 0
      },
      "text/plain": [
       "  0%|          | 0/570 [00:00<?, ?it/s]"
      ]
     },
     "metadata": {},
     "output_type": "display_data"
    },
    {
     "name": "stderr",
     "output_type": "stream",
     "text": [
      "reconstraining parameters Mat52.lengthscale\n",
      "reconstraining parameters Mat52.variance\n"
     ]
    },
    {
     "data": {
      "application/vnd.jupyter.widget-view+json": {
       "model_id": "679f63699f0d42a58b02d3c49725a13e",
       "version_major": 2,
       "version_minor": 0
      },
      "text/plain": [
       "  0%|          | 0/570 [00:00<?, ?it/s]"
      ]
     },
     "metadata": {},
     "output_type": "display_data"
    },
    {
     "name": "stderr",
     "output_type": "stream",
     "text": [
      "reconstraining parameters Mat52.lengthscale\n",
      "reconstraining parameters Mat52.variance\n"
     ]
    },
    {
     "data": {
      "application/vnd.jupyter.widget-view+json": {
       "model_id": "35b67a2138bd46a5ad300c896ba6fee3",
       "version_major": 2,
       "version_minor": 0
      },
      "text/plain": [
       "  0%|          | 0/570 [00:00<?, ?it/s]"
      ]
     },
     "metadata": {},
     "output_type": "display_data"
    },
    {
     "name": "stderr",
     "output_type": "stream",
     "text": [
      "reconstraining parameters Mat52.lengthscale\n",
      "reconstraining parameters Mat52.variance\n"
     ]
    },
    {
     "data": {
      "application/vnd.jupyter.widget-view+json": {
       "model_id": "f5827cc8236d49d2b0ed97246e54e21a",
       "version_major": 2,
       "version_minor": 0
      },
      "text/plain": [
       "  0%|          | 0/570 [00:00<?, ?it/s]"
      ]
     },
     "metadata": {},
     "output_type": "display_data"
    },
    {
     "name": "stderr",
     "output_type": "stream",
     "text": [
      "reconstraining parameters Mat52.lengthscale\n",
      "reconstraining parameters Mat52.variance\n"
     ]
    },
    {
     "data": {
      "application/vnd.jupyter.widget-view+json": {
       "model_id": "6759208cc5cc40138b85d27a26900a7b",
       "version_major": 2,
       "version_minor": 0
      },
      "text/plain": [
       "  0%|          | 0/570 [00:00<?, ?it/s]"
      ]
     },
     "metadata": {},
     "output_type": "display_data"
    },
    {
     "name": "stderr",
     "output_type": "stream",
     "text": [
      "reconstraining parameters Mat52.lengthscale\n",
      "reconstraining parameters Mat52.variance\n"
     ]
    },
    {
     "data": {
      "application/vnd.jupyter.widget-view+json": {
       "model_id": "02c8fc46073f4045937c9c6ace88306c",
       "version_major": 2,
       "version_minor": 0
      },
      "text/plain": [
       "  0%|          | 0/570 [00:00<?, ?it/s]"
      ]
     },
     "metadata": {},
     "output_type": "display_data"
    },
    {
     "name": "stderr",
     "output_type": "stream",
     "text": [
      "reconstraining parameters Mat52.lengthscale\n",
      "reconstraining parameters Mat52.variance\n"
     ]
    },
    {
     "data": {
      "application/vnd.jupyter.widget-view+json": {
       "model_id": "ea3a7b7026b749be8fd51b564798fdbb",
       "version_major": 2,
       "version_minor": 0
      },
      "text/plain": [
       "  0%|          | 0/570 [00:00<?, ?it/s]"
      ]
     },
     "metadata": {},
     "output_type": "display_data"
    },
    {
     "name": "stderr",
     "output_type": "stream",
     "text": [
      "reconstraining parameters Mat52.lengthscale\n",
      "reconstraining parameters Mat52.variance\n"
     ]
    },
    {
     "data": {
      "application/vnd.jupyter.widget-view+json": {
       "model_id": "c110c1c48a4f4d25aa58f19a3d7bd76c",
       "version_major": 2,
       "version_minor": 0
      },
      "text/plain": [
       "  0%|          | 0/570 [00:00<?, ?it/s]"
      ]
     },
     "metadata": {},
     "output_type": "display_data"
    },
    {
     "name": "stderr",
     "output_type": "stream",
     "text": [
      "reconstraining parameters Mat52.lengthscale\n",
      "reconstraining parameters Mat52.variance\n"
     ]
    },
    {
     "data": {
      "application/vnd.jupyter.widget-view+json": {
       "model_id": "e7af7fa6024c405898ddb31bbb54bd93",
       "version_major": 2,
       "version_minor": 0
      },
      "text/plain": [
       "  0%|          | 0/570 [00:00<?, ?it/s]"
      ]
     },
     "metadata": {},
     "output_type": "display_data"
    },
    {
     "name": "stderr",
     "output_type": "stream",
     "text": [
      "reconstraining parameters Mat52.lengthscale\n",
      "reconstraining parameters Mat52.variance\n"
     ]
    },
    {
     "data": {
      "application/vnd.jupyter.widget-view+json": {
       "model_id": "615369104905453e8d9633cba40849a2",
       "version_major": 2,
       "version_minor": 0
      },
      "text/plain": [
       "  0%|          | 0/570 [00:00<?, ?it/s]"
      ]
     },
     "metadata": {},
     "output_type": "display_data"
    }
   ],
   "source": [
    "shap_values_list = []\n",
    "for i in range(10):\n",
    "    ##*******************************************##\n",
    "    ## NN\n",
    "    from sklearn.neural_network import MLPRegressor\n",
    "    nn_reg = MLPRegressor(hidden_layer_sizes = [32,64,32], alpha = 0.01, activation = 'relu',\n",
    "                     max_iter = 5000, solver='sgd',verbose=False,\n",
    "                     tol=1e-6)\n",
    "    nn_reg.fit(X_input_norm, y_PCE)\n",
    "\n",
    "    ##*******************************************##\n",
    "    ## Gradient Boosting\n",
    "    from sklearn.ensemble import GradientBoostingRegressor\n",
    "    gb_regr = GradientBoostingRegressor(n_estimators=20, max_depth=4)#random_state=99#{‘squared_error’, ‘absolute_error’, ‘huber’, ‘quantile’}\n",
    "    gb_regr.fit(X_input_norm, y_PCE)\n",
    "    ##*******************************************##\n",
    "    ## Random Forest\n",
    "    from sklearn.ensemble import RandomForestRegressor\n",
    "    rf_regr = RandomForestRegressor(n_estimators=20, max_depth=5)#random_state=200# criterion=\"squared_error\",'absolute_error'\n",
    "    rf_regr.fit(X_input_norm, y_PCE)\n",
    "    ##*******************************************##\n",
    "    from sklearn.svm import SVR\n",
    "    regr = SVR(C=10, epsilon=0.05)#\n",
    "    regr.fit(X_input_norm, y_PCE)\n",
    "    ##*********************************************##\n",
    "    import emukit\n",
    "    import GPy\n",
    "    from GPy.models import GPRegression\n",
    "    from emukit.model_wrappers import GPyModelWrapper\n",
    "\n",
    "    input_dim = 13\n",
    "    ker = GPy.kern.Matern52(input_dim = input_dim, ARD =True)#\n",
    "    ker.lengthscale.constrain_bounded(1e-2, 10)\n",
    "    ker.variance.constrain_bounded(1e-2, 1000)\n",
    "    gpy_regr = GPRegression(X_input_norm,y_PCE.reshape(-1,1), ker)\n",
    "    gpy_regr.randomize()\n",
    "    gpy_regr.optimize_restarts(num_restarts=10,verbose =False, messages=False)\n",
    "    objective_model = GPyModelWrapper(gpy_regr)\n",
    "\n",
    "    def regr_pred(regr_list, X):\n",
    "        y_regr_pred = []\n",
    "        i = 0\n",
    "        for regr in regr_list:\n",
    "            y_regr_pred.append(regr(X).reshape(-1,1))\n",
    "        return np.array(y_regr_pred)\n",
    "\n",
    "    def gpy_regr_predict(X, gp = objective_model):\n",
    "        yc_pred, yc_uncer= gp.predict(np.array(X))\n",
    "        return yc_pred.ravel()\n",
    "\n",
    "    regr_list = [nn_reg.predict, gb_regr.predict, rf_regr.predict, regr.predict, gpy_regr_predict]\n",
    "    lr_reg_all = RandomForestRegressor(n_estimators=50, max_depth=3)\n",
    "    lr_reg_all.fit(np.transpose(regr_pred(regr_list, X_input_norm)).reshape(-1,5), y_PCE.ravel())\n",
    "\n",
    "\n",
    "    def obj_predictor_shap(X):\n",
    "        X =  pd.DataFrame(X)\n",
    "        y_pred = lr_reg_all.predict(np.transpose(regr_pred(regr_list, X)).reshape(-1,5))\n",
    "        y_pred_org =  y_pred.reshape(-1,1)\n",
    "        return y_pred_org\n",
    "\n",
    "    model_predict = obj_predictor_shap\n",
    "    df_X_shap = pd.DataFrame(np.array(X_shap_norm),\n",
    "                        columns = X_input.columns)\n",
    "    \n",
    "    import shap    \n",
    "    explainer = shap.KernelExplainer(model_predict, \n",
    "                                     shap.kmeans(df_X_shap, 10))\n",
    "    shap_values = explainer.shap_values(X_shap_norm)[0]\n",
    "    shap_values_list.append(shap_values)\n"
   ]
  },
  {
   "cell_type": "code",
   "execution_count": 38,
   "id": "2a8fe32d",
   "metadata": {},
   "outputs": [
    {
     "data": {
      "image/png": "[encoded data removed]",
      "text/plain": [
       "<Figure size 576x482.4 with 2 Axes>"
      ]
     },
     "metadata": {
      "needs_background": "light"
     },
     "output_type": "display_data"
    }
   ],
   "source": [
    "shap_values_list_ = np.mean(shap_values_list,axis=0)\n",
    "shap.summary_plot(shap_values_list_[:,0:], df_X_shap.iloc[:,0:], \n",
    "                  plot_type = \"dot\", color=plt.get_cmap(\"plasma\"), \n",
    "                  axis_color='black',\n",
    "                  show = False)"
   ]
  },
  {
   "cell_type": "markdown",
   "id": "96261fd2",
   "metadata": {},
   "source": [
    "#### Save the plot as a .png file"
   ]
  },
  {
   "cell_type": "code",
   "execution_count": 39,
   "id": "37323b14",
   "metadata": {},
   "outputs": [
    {
     "data": {
      "text/plain": [
       "<Figure size 432x288 with 0 Axes>"
      ]
     },
     "metadata": {},
     "output_type": "display_data"
    }
   ],
   "source": [
    "plt.savefig(\"../output/Feature Importance.png\", dpi=1000,format=\"png\", alpha=0.8, bbox_inches = 'tight')"
   ]
  },
  {
   "cell_type": "markdown",
   "id": "b9110283",
   "metadata": {},
   "source": [
    "## 3. Partial Dependence Plot of Each Input X\n",
    "- obtain individual SHAP values vs each input X"
   ]
  },
  {
   "cell_type": "code",
   "execution_count": 40,
   "id": "520d9be9",
   "metadata": {},
   "outputs": [
    {
     "data": {
      "text/html": [
       "<div>\n",
       "<style scoped>\n",
       "    .dataframe tbody tr th:only-of-type {\n",
       "        vertical-align: middle;\n",
       "    }\n",
       "\n",
       "    .dataframe tbody tr th {\n",
       "        vertical-align: top;\n",
       "    }\n",
       "\n",
       "    .dataframe thead th {\n",
       "        text-align: right;\n",
       "    }\n",
       "</style>\n",
       "<table border=\"1\" class=\"dataframe\">\n",
       "  <thead>\n",
       "    <tr style=\"text-align: right;\">\n",
       "      <th></th>\n",
       "      <th>Concentration (umol/mL)</th>\n",
       "      <th>C atom</th>\n",
       "      <th>H atom</th>\n",
       "      <th>N atom</th>\n",
       "      <th>F atom</th>\n",
       "      <th>O atom</th>\n",
       "      <th>Ipc</th>\n",
       "      <th>Molecular weight</th>\n",
       "      <th>Hydrogen bond donor</th>\n",
       "      <th>Hydrogen bond acceptor</th>\n",
       "      <th>Rotatable bond</th>\n",
       "      <th>Complexity</th>\n",
       "      <th>MolLogP</th>\n",
       "    </tr>\n",
       "  </thead>\n",
       "  <tbody>\n",
       "    <tr>\n",
       "      <th>0</th>\n",
       "      <td>4.973887</td>\n",
       "      <td>4</td>\n",
       "      <td>12</td>\n",
       "      <td>1</td>\n",
       "      <td>0</td>\n",
       "      <td>0</td>\n",
       "      <td>11.245112</td>\n",
       "      <td>201.050</td>\n",
       "      <td>1</td>\n",
       "      <td>0</td>\n",
       "      <td>2</td>\n",
       "      <td>15.020000</td>\n",
       "      <td>-2.9700</td>\n",
       "    </tr>\n",
       "    <tr>\n",
       "      <th>1</th>\n",
       "      <td>4.147313</td>\n",
       "      <td>7</td>\n",
       "      <td>16</td>\n",
       "      <td>1</td>\n",
       "      <td>0</td>\n",
       "      <td>0</td>\n",
       "      <td>91.367577</td>\n",
       "      <td>241.120</td>\n",
       "      <td>1</td>\n",
       "      <td>0</td>\n",
       "      <td>1</td>\n",
       "      <td>59.940000</td>\n",
       "      <td>-2.1900</td>\n",
       "    </tr>\n",
       "    <tr>\n",
       "      <th>2</th>\n",
       "      <td>5.780347</td>\n",
       "      <td>2</td>\n",
       "      <td>8</td>\n",
       "      <td>1</td>\n",
       "      <td>0</td>\n",
       "      <td>0</td>\n",
       "      <td>2.754888</td>\n",
       "      <td>173.000</td>\n",
       "      <td>1</td>\n",
       "      <td>0</td>\n",
       "      <td>0</td>\n",
       "      <td>6.000000</td>\n",
       "      <td>-3.7500</td>\n",
       "    </tr>\n",
       "    <tr>\n",
       "      <th>3</th>\n",
       "      <td>5.348166</td>\n",
       "      <td>1</td>\n",
       "      <td>6</td>\n",
       "      <td>3</td>\n",
       "      <td>0</td>\n",
       "      <td>0</td>\n",
       "      <td>3.245112</td>\n",
       "      <td>186.980</td>\n",
       "      <td>3</td>\n",
       "      <td>1</td>\n",
       "      <td>0</td>\n",
       "      <td>29.870000</td>\n",
       "      <td>-4.8700</td>\n",
       "    </tr>\n",
       "    <tr>\n",
       "      <th>4</th>\n",
       "      <td>3.744056</td>\n",
       "      <td>8</td>\n",
       "      <td>11</td>\n",
       "      <td>1</td>\n",
       "      <td>1</td>\n",
       "      <td>0</td>\n",
       "      <td>210.075617</td>\n",
       "      <td>267.090</td>\n",
       "      <td>1</td>\n",
       "      <td>0</td>\n",
       "      <td>2</td>\n",
       "      <td>197.750000</td>\n",
       "      <td>-2.3900</td>\n",
       "    </tr>\n",
       "    <tr>\n",
       "      <th>...</th>\n",
       "      <td>...</td>\n",
       "      <td>...</td>\n",
       "      <td>...</td>\n",
       "      <td>...</td>\n",
       "      <td>...</td>\n",
       "      <td>...</td>\n",
       "      <td>...</td>\n",
       "      <td>...</td>\n",
       "      <td>...</td>\n",
       "      <td>...</td>\n",
       "      <td>...</td>\n",
       "      <td>...</td>\n",
       "      <td>...</td>\n",
       "    </tr>\n",
       "    <tr>\n",
       "      <th>565</th>\n",
       "      <td>80.203610</td>\n",
       "      <td>3</td>\n",
       "      <td>10</td>\n",
       "      <td>1</td>\n",
       "      <td>0</td>\n",
       "      <td>0</td>\n",
       "      <td>3.245112</td>\n",
       "      <td>187.024</td>\n",
       "      <td>1</td>\n",
       "      <td>0</td>\n",
       "      <td>0</td>\n",
       "      <td>11.609640</td>\n",
       "      <td>-3.3593</td>\n",
       "    </tr>\n",
       "    <tr>\n",
       "      <th>566</th>\n",
       "      <td>80.203610</td>\n",
       "      <td>3</td>\n",
       "      <td>10</td>\n",
       "      <td>1</td>\n",
       "      <td>0</td>\n",
       "      <td>0</td>\n",
       "      <td>6.854753</td>\n",
       "      <td>187.024</td>\n",
       "      <td>1</td>\n",
       "      <td>0</td>\n",
       "      <td>1</td>\n",
       "      <td>8.854753</td>\n",
       "      <td>-3.3577</td>\n",
       "    </tr>\n",
       "    <tr>\n",
       "      <th>567</th>\n",
       "      <td>75.363630</td>\n",
       "      <td>4</td>\n",
       "      <td>10</td>\n",
       "      <td>1</td>\n",
       "      <td>0</td>\n",
       "      <td>0</td>\n",
       "      <td>22.886435</td>\n",
       "      <td>199.035</td>\n",
       "      <td>1</td>\n",
       "      <td>0</td>\n",
       "      <td>0</td>\n",
       "      <td>19.119415</td>\n",
       "      <td>-3.6524</td>\n",
       "    </tr>\n",
       "    <tr>\n",
       "      <th>568</th>\n",
       "      <td>63.544244</td>\n",
       "      <td>6</td>\n",
       "      <td>9</td>\n",
       "      <td>2</td>\n",
       "      <td>0</td>\n",
       "      <td>0</td>\n",
       "      <td>91.367577</td>\n",
       "      <td>236.056</td>\n",
       "      <td>1</td>\n",
       "      <td>1</td>\n",
       "      <td>1</td>\n",
       "      <td>152.403849</td>\n",
       "      <td>-3.1725</td>\n",
       "    </tr>\n",
       "    <tr>\n",
       "      <th>569</th>\n",
       "      <td>62.215623</td>\n",
       "      <td>5</td>\n",
       "      <td>8</td>\n",
       "      <td>1</td>\n",
       "      <td>0</td>\n",
       "      <td>0</td>\n",
       "      <td>66.313110</td>\n",
       "      <td>241.097</td>\n",
       "      <td>1</td>\n",
       "      <td>1</td>\n",
       "      <td>1</td>\n",
       "      <td>126.984610</td>\n",
       "      <td>-2.5060</td>\n",
       "    </tr>\n",
       "  </tbody>\n",
       "</table>\n",
       "<p>570 rows × 13 columns</p>\n",
       "</div>"
      ],
      "text/plain": [
       "     Concentration (umol/mL)  C atom  H atom  N atom  F atom  O atom  \\\n",
       "0                   4.973887       4      12       1       0       0   \n",
       "1                   4.147313       7      16       1       0       0   \n",
       "2                   5.780347       2       8       1       0       0   \n",
       "3                   5.348166       1       6       3       0       0   \n",
       "4                   3.744056       8      11       1       1       0   \n",
       "..                       ...     ...     ...     ...     ...     ...   \n",
       "565                80.203610       3      10       1       0       0   \n",
       "566                80.203610       3      10       1       0       0   \n",
       "567                75.363630       4      10       1       0       0   \n",
       "568                63.544244       6       9       2       0       0   \n",
       "569                62.215623       5       8       1       0       0   \n",
       "\n",
       "            Ipc  Molecular weight  Hydrogen bond donor  \\\n",
       "0     11.245112           201.050                    1   \n",
       "1     91.367577           241.120                    1   \n",
       "2      2.754888           173.000                    1   \n",
       "3      3.245112           186.980                    3   \n",
       "4    210.075617           267.090                    1   \n",
       "..          ...               ...                  ...   \n",
       "565    3.245112           187.024                    1   \n",
       "566    6.854753           187.024                    1   \n",
       "567   22.886435           199.035                    1   \n",
       "568   91.367577           236.056                    1   \n",
       "569   66.313110           241.097                    1   \n",
       "\n",
       "     Hydrogen bond acceptor  Rotatable bond  Complexity  MolLogP  \n",
       "0                         0               2   15.020000  -2.9700  \n",
       "1                         0               1   59.940000  -2.1900  \n",
       "2                         0               0    6.000000  -3.7500  \n",
       "3                         1               0   29.870000  -4.8700  \n",
       "4                         0               2  197.750000  -2.3900  \n",
       "..                      ...             ...         ...      ...  \n",
       "565                       0               0   11.609640  -3.3593  \n",
       "566                       0               1    8.854753  -3.3577  \n",
       "567                       0               0   19.119415  -3.6524  \n",
       "568                       1               1  152.403849  -3.1725  \n",
       "569                       1               1  126.984610  -2.5060  \n",
       "\n",
       "[570 rows x 13 columns]"
      ]
     },
     "execution_count": 40,
     "metadata": {},
     "output_type": "execute_result"
    }
   ],
   "source": [
    "X_shap_ = X_shap.iloc[:,3:]\n",
    "X_shap_"
   ]
  },
  {
   "cell_type": "code",
   "execution_count": 41,
   "id": "c86029d7",
   "metadata": {},
   "outputs": [
    {
     "data": {
      "image/png": "[encoded data removed]",
      "text/plain": [
       "<Figure size 288x252 with 1 Axes>"
      ]
     },
     "metadata": {
      "needs_background": "light"
     },
     "output_type": "display_data"
    },
    {
     "data": {
      "image/png": "[encoded data removed]",
      "text/plain": [
       "<Figure size 288x252 with 1 Axes>"
      ]
     },
     "metadata": {
      "needs_background": "light"
     },
     "output_type": "display_data"
    },
    {
     "data": {
      "image/png": "[encoded data removed]",
      "text/plain": [
       "<Figure size 288x252 with 1 Axes>"
      ]
     },
     "metadata": {
      "needs_background": "light"
     },
     "output_type": "display_data"
    },
    {
     "data": {
      "image/png": "[encoded data removed]",
      "text/plain": [
       "<Figure size 288x252 with 1 Axes>"
      ]
     },
     "metadata": {
      "needs_background": "light"
     },
     "output_type": "display_data"
    },
    {
     "data": {
      "image/png": "[encoded data removed]",
      "text/plain": [
       "<Figure size 288x252 with 1 Axes>"
      ]
     },
     "metadata": {
      "needs_background": "light"
     },
     "output_type": "display_data"
    },
    {
     "data": {
      "image/png": "[encoded data removed]",
      "text/plain": [
       "<Figure size 288x252 with 1 Axes>"
      ]
     },
     "metadata": {
      "needs_background": "light"
     },
     "output_type": "display_data"
    },
    {
     "data": {
      "image/png": "[encoded data removed]",
      "text/plain": [
       "<Figure size 288x252 with 1 Axes>"
      ]
     },
     "metadata": {
      "needs_background": "light"
     },
     "output_type": "display_data"
    },
    {
     "data": {
      "image/png": "[encoded data removed]",
      "text/plain": [
       "<Figure size 288x252 with 1 Axes>"
      ]
     },
     "metadata": {
      "needs_background": "light"
     },
     "output_type": "display_data"
    },
    {
     "data": {
      "image/png": "[encoded data removed]",
      "text/plain": [
       "<Figure size 288x252 with 1 Axes>"
      ]
     },
     "metadata": {
      "needs_background": "light"
     },
     "output_type": "display_data"
    },
    {
     "data": {
      "image/png": "[encoded data removed]",
      "text/plain": [
       "<Figure size 288x252 with 1 Axes>"
      ]
     },
     "metadata": {
      "needs_background": "light"
     },
     "output_type": "display_data"
    },
    {
     "data": {
      "image/png": "[encoded data removed]",
      "text/plain": [
       "<Figure size 288x252 with 1 Axes>"
      ]
     },
     "metadata": {
      "needs_background": "light"
     },
     "output_type": "display_data"
    },
    {
     "data": {
      "image/png": "[encoded data removed]",
      "text/plain": [
       "<Figure size 288x252 with 1 Axes>"
      ]
     },
     "metadata": {
      "needs_background": "light"
     },
     "output_type": "display_data"
    },
    {
     "data": {
      "image/png": "[encoded data removed]",
      "text/plain": [
       "<Figure size 288x252 with 1 Axes>"
      ]
     },
     "metadata": {
      "needs_background": "light"
     },
     "output_type": "display_data"
    }
   ],
   "source": [
    "df_X = pd.DataFrame(X_input_norm)\n",
    "plt.rcParams['font.sans-serif'] = [\"Arial\"]\n",
    "for name in df_X.columns:\n",
    "    fig,ax = plt.subplots(1, 1, figsize=(4, 3.5))\n",
    "    ax.set_ylabel('SHAP value',)\n",
    "    shap.dependence_plot(name,shap_values_list_, X_shap_, display_features=X_shap_,interaction_index=None ,ax=ax)"
   ]
  },
  {
   "cell_type": "markdown",
   "id": "65ce2e26",
   "metadata": {},
   "source": [
    "#### Save the shap values to a .csv file "
   ]
  },
  {
   "cell_type": "code",
   "execution_count": 42,
   "id": "4a717260",
   "metadata": {},
   "outputs": [],
   "source": [
    "df = pd.DataFrame(shap_values_list_)\n",
    "df.to_csv('../output/shap_values.csv')"
   ]
  },
  {
   "cell_type": "code",
   "execution_count": null,
   "id": "188242d8",
   "metadata": {},
   "outputs": [],
   "source": []
  }
 ],
 "metadata": {
  "kernelspec": {
   "display_name": "Python 3 (ipykernel)",
   "language": "python",
   "name": "python3"
  },
  "language_info": {
   "codemirror_mode": {
    "name": "ipython",
    "version": 3
   },
   "file_extension": ".py",
   "mimetype": "text/x-python",
   "name": "python",
   "nbconvert_exporter": "python",
   "pygments_lexer": "ipython3",
   "version": "3.9.12"
  }
 },
 "nbformat": 4,
 "nbformat_minor": 5
}
